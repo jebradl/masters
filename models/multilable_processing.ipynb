{
 "cells": [
  {
   "cell_type": "code",
   "execution_count": 1,
   "id": "b4b6513e",
   "metadata": {},
   "outputs": [],
   "source": [
    "import numpy as np\n",
    "import pandas as pd\n",
    "import matplotlib.pyplot as plt\n",
    "\n",
    "import keras\n",
    "from keras.models import Sequential\n",
    "from keras.layers import Dense, Dropout, Flatten\n",
    "from keras.layers import Conv2D, MaxPooling2D\n",
    "from keras.utils import to_categorical\n",
    "from keras.preprocessing import image\n",
    "\n",
    "from tqdm import tqdm\n",
    "from sklearn.preprocessing import LabelEncoder, MultiLabelBinarizer\n",
    "from sklearn.model_selection import train_test_split\n",
    "\n",
    "import utils\n",
    "\n",
    "%matplotlib inline"
   ]
  },
  {
   "cell_type": "code",
   "execution_count": 3,
   "id": "890df03e",
   "metadata": {},
   "outputs": [
    {
     "data": {
      "text/plain": [
       "((106574, 52), (163, 4))"
      ]
     },
     "execution_count": 3,
     "metadata": {},
     "output_type": "execute_result"
    }
   ],
   "source": [
    "tracks = utils.load('C:/Users/night/Documents/09/school/actual-masters/git/masters/models/data/fma/fma_metadata/tracks.csv')\n",
    "genres_ = utils.load('C:/Users/night/Documents/09/school/actual-masters/git/masters/models/data/fma/fma_metadata/genres.csv')\n",
    "\n",
    "tracks.shape, genres_.shape"
   ]
  },
  {
   "cell_type": "code",
   "execution_count": 7,
   "id": "68eb65c5",
   "metadata": {},
   "outputs": [
    {
     "name": "stdout",
     "output_type": "stream",
     "text": [
      "[2, 3, 4, 5, 8, 9, 10, 12, 13, 14, 15, 17, 20, 21, 38, 1235]\n"
     ]
    }
   ],
   "source": [
    "subset = tracks.index[tracks['set', 'subset'] <= 'medium']\n",
    "tracks = tracks.loc[subset]\n",
    "\n",
    "train = tracks.index[tracks['set', 'split'] == 'training']\n",
    "val = tracks.index[tracks['set', 'split'] == 'validation']\n",
    "test = tracks.index[tracks['set', 'split'] == 'test']\n",
    "\n",
    "top_lvl_genres = list(genres_.index[genres_['parent'] == 0])\n",
    "print(top_lvl_genres)"
   ]
  },
  {
   "cell_type": "code",
   "execution_count": 24,
   "id": "f62244f7",
   "metadata": {},
   "outputs": [
    {
     "data": {
      "text/html": [
       "<div>\n",
       "<style scoped>\n",
       "    .dataframe tbody tr th:only-of-type {\n",
       "        vertical-align: middle;\n",
       "    }\n",
       "\n",
       "    .dataframe tbody tr th {\n",
       "        vertical-align: top;\n",
       "    }\n",
       "\n",
       "    .dataframe thead th {\n",
       "        text-align: right;\n",
       "    }\n",
       "</style>\n",
       "<table border=\"1\" class=\"dataframe\">\n",
       "  <thead>\n",
       "    <tr style=\"text-align: right;\">\n",
       "      <th></th>\n",
       "      <th>track_id</th>\n",
       "      <th>split</th>\n",
       "      <th>2</th>\n",
       "      <th>3</th>\n",
       "      <th>4</th>\n",
       "      <th>5</th>\n",
       "      <th>8</th>\n",
       "      <th>9</th>\n",
       "      <th>10</th>\n",
       "      <th>12</th>\n",
       "      <th>13</th>\n",
       "      <th>14</th>\n",
       "      <th>15</th>\n",
       "      <th>17</th>\n",
       "      <th>20</th>\n",
       "      <th>21</th>\n",
       "      <th>38</th>\n",
       "      <th>1235</th>\n",
       "    </tr>\n",
       "  </thead>\n",
       "  <tbody>\n",
       "    <tr>\n",
       "      <th>0</th>\n",
       "      <td>2</td>\n",
       "      <td>training</td>\n",
       "      <td>0</td>\n",
       "      <td>0</td>\n",
       "      <td>0</td>\n",
       "      <td>0</td>\n",
       "      <td>0</td>\n",
       "      <td>0</td>\n",
       "      <td>0</td>\n",
       "      <td>0</td>\n",
       "      <td>0</td>\n",
       "      <td>0</td>\n",
       "      <td>0</td>\n",
       "      <td>0</td>\n",
       "      <td>0</td>\n",
       "      <td>1</td>\n",
       "      <td>0</td>\n",
       "      <td>0</td>\n",
       "    </tr>\n",
       "    <tr>\n",
       "      <th>1</th>\n",
       "      <td>3</td>\n",
       "      <td>training</td>\n",
       "      <td>0</td>\n",
       "      <td>0</td>\n",
       "      <td>0</td>\n",
       "      <td>0</td>\n",
       "      <td>0</td>\n",
       "      <td>0</td>\n",
       "      <td>0</td>\n",
       "      <td>0</td>\n",
       "      <td>0</td>\n",
       "      <td>0</td>\n",
       "      <td>0</td>\n",
       "      <td>0</td>\n",
       "      <td>0</td>\n",
       "      <td>1</td>\n",
       "      <td>0</td>\n",
       "      <td>0</td>\n",
       "    </tr>\n",
       "    <tr>\n",
       "      <th>2</th>\n",
       "      <td>5</td>\n",
       "      <td>training</td>\n",
       "      <td>0</td>\n",
       "      <td>0</td>\n",
       "      <td>0</td>\n",
       "      <td>0</td>\n",
       "      <td>0</td>\n",
       "      <td>0</td>\n",
       "      <td>0</td>\n",
       "      <td>0</td>\n",
       "      <td>0</td>\n",
       "      <td>0</td>\n",
       "      <td>0</td>\n",
       "      <td>0</td>\n",
       "      <td>0</td>\n",
       "      <td>1</td>\n",
       "      <td>0</td>\n",
       "      <td>0</td>\n",
       "    </tr>\n",
       "    <tr>\n",
       "      <th>3</th>\n",
       "      <td>10</td>\n",
       "      <td>training</td>\n",
       "      <td>0</td>\n",
       "      <td>0</td>\n",
       "      <td>0</td>\n",
       "      <td>0</td>\n",
       "      <td>0</td>\n",
       "      <td>0</td>\n",
       "      <td>1</td>\n",
       "      <td>0</td>\n",
       "      <td>0</td>\n",
       "      <td>0</td>\n",
       "      <td>0</td>\n",
       "      <td>0</td>\n",
       "      <td>0</td>\n",
       "      <td>0</td>\n",
       "      <td>0</td>\n",
       "      <td>0</td>\n",
       "    </tr>\n",
       "    <tr>\n",
       "      <th>4</th>\n",
       "      <td>134</td>\n",
       "      <td>training</td>\n",
       "      <td>0</td>\n",
       "      <td>0</td>\n",
       "      <td>0</td>\n",
       "      <td>0</td>\n",
       "      <td>0</td>\n",
       "      <td>0</td>\n",
       "      <td>0</td>\n",
       "      <td>0</td>\n",
       "      <td>0</td>\n",
       "      <td>0</td>\n",
       "      <td>0</td>\n",
       "      <td>0</td>\n",
       "      <td>0</td>\n",
       "      <td>1</td>\n",
       "      <td>0</td>\n",
       "      <td>0</td>\n",
       "    </tr>\n",
       "  </tbody>\n",
       "</table>\n",
       "</div>"
      ],
      "text/plain": [
       "  track_id     split  2  3  4  5  8  9 10 12 13 14 15 17 20 21 38 1235\n",
       "0        2  training  0  0  0  0  0  0  0  0  0  0  0  0  0  1  0    0\n",
       "1        3  training  0  0  0  0  0  0  0  0  0  0  0  0  0  1  0    0\n",
       "2        5  training  0  0  0  0  0  0  0  0  0  0  0  0  0  1  0    0\n",
       "3       10  training  0  0  0  0  0  0  1  0  0  0  0  0  0  0  0    0\n",
       "4      134  training  0  0  0  0  0  0  0  0  0  0  0  0  0  1  0    0"
      ]
     },
     "execution_count": 24,
     "metadata": {},
     "output_type": "execute_result"
    }
   ],
   "source": [
    "columns = ['track_id', 'split'] + top_lvl_genres\n",
    "\n",
    "data = pd.DataFrame(columns=columns)\n",
    "tracks_df = pd.DataFrame(tracks)\n",
    "data.head()\n",
    "\n",
    "# print(tracks_df.columns)\n",
    "\n",
    "genres_set = set(top_lvl_genres)\n",
    "\n",
    "for i, track_id in enumerate(subset):\n",
    "    if i < 100000:\n",
    "        genres = tracks_df.loc[track_id,('track', 'genres_all')]\n",
    "        if genres_set.intersection(set(genres)) != set():\n",
    "            data.loc[len(data)] = 0\n",
    "            data.at[i, 'track_id'] = track_id\n",
    "            data.at[i, 'split'] = tracks_df.loc[track_id,('set', 'split')]\n",
    "\n",
    "            genres = tracks_df.loc[track_id,('track', 'genres_all')]\n",
    "            for genre in genres:\n",
    "                if genre in top_lvl_genres:\n",
    "                    data.at[i, genre] = 1\n",
    "#             print(track_id, ':', genres)\n",
    "        else:\n",
    "            print('no parent level genres for track', track_id)\n",
    "        \n",
    "data.head()\n",
    "            \n",
    "# data.set_index('track_id', inplace=True, drop=True)\n",
    "# data.to_csv('C:/Users/night/Documents/09/school/actual-masters/git/masters/models/data/fma/medium_multigenre.csv')   "
   ]
  },
  {
   "cell_type": "code",
   "execution_count": 27,
   "id": "0c2e9fe2",
   "metadata": {},
   "outputs": [],
   "source": [
    "# data.set_index('track_id', inplace=True, drop=True)\n",
    "data.head()\n",
    "\n",
    "data.to_csv('C:/Users/night/Documents/09/school/actual-masters/git/masters/models/data/fma/medium_multigenre.csv') "
   ]
  },
  {
   "cell_type": "code",
   "execution_count": 34,
   "id": "ba70d070",
   "metadata": {},
   "outputs": [
    {
     "name": "stdout",
     "output_type": "stream",
     "text": [
      "2 1018\n",
      "3 74\n",
      "4 384\n",
      "5 619\n",
      "8 510\n",
      "9 178\n",
      "10 1186\n",
      "12 7103\n",
      "13 21\n",
      "14 154\n",
      "15 6314\n",
      "17 1519\n",
      "20 118\n",
      "21 2201\n",
      "38 2251\n",
      "1235 1350\n",
      "25000\n"
     ]
    }
   ],
   "source": [
    "total = 0\n",
    "for col in data:\n",
    "    if col in top_lvl_genres:\n",
    "        print(col, data[col].sum())\n",
    "        total += int(data[col].sum())\n",
    "print(total)"
   ]
  },
  {
   "cell_type": "code",
   "execution_count": null,
   "id": "fa3cfa4a",
   "metadata": {},
   "outputs": [],
   "source": [
    "# tracks_df = pd.DataFrame(tracks)\n",
    "\n",
    "# print(tracks_df.loc[2,('track', 'genres')])\n",
    "# tracks_df.head()\n",
    "\n",
    "genre_ids = genres_.iloc[0]['title']\n",
    "# print(genre_ids['title'])\n",
    "print(genre_ids)"
   ]
  },
  {
   "cell_type": "code",
   "execution_count": null,
   "id": "31c4f2bf",
   "metadata": {},
   "outputs": [],
   "source": [
    "# data.set_index('track_id', inplace=True, drop=True)\n",
    "\n",
    "# print(data.columns)\n",
    "# data.head()\n",
    "\n",
    "data.drop([16, 166], axis=1)\n",
    "\n",
    "for col in data.columns:\n",
    "    print(col)\n",
    "    if type(col) != str:\n",
    "        try:\n",
    "            col = int(col)\n",
    "            genre_name = genres_.iloc[col]['title']\n",
    "            data.rename(columns={col:genre_name})\n",
    "        except:\n",
    "            print('passed')\n",
    "        \n",
    "data.head()"
   ]
  },
  {
   "cell_type": "code",
   "execution_count": null,
   "id": "8f880db4",
   "metadata": {},
   "outputs": [],
   "source": [
    "data[16].sum()"
   ]
  },
  {
   "cell_type": "code",
   "execution_count": null,
   "id": "62c98d29",
   "metadata": {},
   "outputs": [],
   "source": [
    "top_genre = list(LabelEncoder().fit(tracks['track', 'genre_top']).classes_)\n",
    "print('Top genres ({}): {}'.format(len(top_genre), top_genre))\n",
    "\n",
    "top_genres = list(MultiLabelBinarizer().fit(tracks['track', 'genres']).classes_)\n",
    "print('All top genres ({}): {}'.format(len(top_genres), top_genres))\n",
    "\n",
    "genres = list(MultiLabelBinarizer().fit(tracks['track', 'genres_all']).classes_)\n",
    "print('All genres ({}): {}'.format(len(genres), genres))"
   ]
  },
  {
   "cell_type": "code",
   "execution_count": 19,
   "id": "f187d9c8",
   "metadata": {},
   "outputs": [
    {
     "name": "stdout",
     "output_type": "stream",
     "text": [
      "yes\n"
     ]
    }
   ],
   "source": [
    "list1 = set([58, 12, 45])\n",
    "list2 = set([1, 38])\n",
    "\n",
    "if list1.intersection(list2) == set():\n",
    "    print('yes')"
   ]
  }
 ],
 "metadata": {
  "kernelspec": {
   "display_name": "Python 3 (ipykernel)",
   "language": "python",
   "name": "python3"
  },
  "language_info": {
   "codemirror_mode": {
    "name": "ipython",
    "version": 3
   },
   "file_extension": ".py",
   "mimetype": "text/x-python",
   "name": "python",
   "nbconvert_exporter": "python",
   "pygments_lexer": "ipython3",
   "version": "3.9.7"
  }
 },
 "nbformat": 4,
 "nbformat_minor": 5
}
