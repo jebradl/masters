{
 "cells": [
  {
   "cell_type": "code",
   "execution_count": 1,
   "id": "b4b6513e",
   "metadata": {},
   "outputs": [],
   "source": [
    "import numpy as np\n",
    "import pandas as pd\n",
    "import matplotlib.pyplot as plt\n",
    "\n",
    "import keras\n",
    "from keras.models import Sequential\n",
    "from keras.layers import Dense, Dropout, Flatten\n",
    "from keras.layers import Conv2D, MaxPooling2D\n",
    "from keras.utils import to_categorical\n",
    "from keras.preprocessing import image\n",
    "\n",
    "from tqdm import tqdm\n",
    "from sklearn.preprocessing import LabelEncoder, MultiLabelBinarizer\n",
    "from sklearn.model_selection import train_test_split\n",
    "\n",
    "import utils\n",
    "\n",
    "%matplotlib inline"
   ]
  },
  {
   "cell_type": "code",
   "execution_count": 2,
   "id": "890df03e",
   "metadata": {},
   "outputs": [
    {
     "data": {
      "text/plain": [
       "((106574, 52), (163, 4))"
      ]
     },
     "execution_count": 2,
     "metadata": {},
     "output_type": "execute_result"
    }
   ],
   "source": [
    "tracks = utils.load('C:/Users/night/Documents/09/school/actual-masters/git/masters/models/data/fma/fma_metadata/tracks.csv')\n",
    "genres_ = utils.load('C:/Users/night/Documents/09/school/actual-masters/git/masters/models/data/fma/fma_metadata/genres.csv')\n",
    "\n",
    "tracks.shape, genres_.shape"
   ]
  },
  {
   "cell_type": "code",
   "execution_count": 3,
   "id": "68eb65c5",
   "metadata": {},
   "outputs": [
    {
     "name": "stdout",
     "output_type": "stream",
     "text": [
      "[2, 3, 4, 5, 8, 9, 10, 12, 13, 14, 15, 17, 20, 21, 38, 1235]\n"
     ]
    }
   ],
   "source": [
    "subset = tracks.index[tracks['set', 'subset'] <= 'medium']\n",
    "tracks = tracks.loc[subset]\n",
    "\n",
    "train = tracks.index[tracks['set', 'split'] == 'training']\n",
    "val = tracks.index[tracks['set', 'split'] == 'validation']\n",
    "test = tracks.index[tracks['set', 'split'] == 'test']\n",
    "\n",
    "top_lvl_genres = list(genres_.index[genres_['parent'] == 0])\n",
    "print(top_lvl_genres)"
   ]
  },
  {
   "cell_type": "code",
   "execution_count": 7,
   "id": "ba47ae0a",
   "metadata": {},
   "outputs": [
    {
     "name": "stdout",
     "output_type": "stream",
     "text": [
      "[2, 3, 4, 5, 8, 9, 10, 12, 13, 14, 15, 17, 20, 21, 38, 1235]\n",
      "163\n",
      "2\n",
      "3\n",
      "4\n",
      "5\n",
      "['International', 'Blues', 'Jazz', 'Classical', 'Old-Time / Historic', 'Country', 'Pop', 'Rock', 'Easy Listening', 'Soul-RnB', 'Electronic', 'Folk', 'Spoken', 'Hip-Hop', 'Experimental', 'Instrumental']\n"
     ]
    }
   ],
   "source": [
    "# just getting the top genre, not one hot encoded\n",
    "\n",
    "# top_lvl_genres = list(genres_.index[genres_['parent'] == 0])\n",
    "print(top_lvl_genres)\n",
    "top_lvl_names = []\n",
    "\n",
    "genres_index = genres_\n",
    "# genres_index['genre_id'] = genres_index.index\n",
    "genres_index = genres_index.reset_index()\n",
    "# genres_index.head()\n",
    "\n",
    "# print(type(genres_))\n",
    "\n",
    "print(len(genres_index))\n",
    "\n",
    "for i, row in enumerate(genres_index):\n",
    "    if genres_index.iloc[i]['genre_id'] in top_lvl_genres:\n",
    "        value = genres_index.iloc[i]['genre_id']\n",
    "        print(value)\n",
    "        \n",
    "for j in top_lvl_genres:\n",
    "    for k in range(163):\n",
    "        if genres_index.iloc[k]['genre_id'] == j:\n",
    "            top_lvl_names.append(genres_index.iloc[k]['title'])\n",
    "        \n",
    "# genres_index.head(20)\n",
    "print(top_lvl_names)"
   ]
  },
  {
   "cell_type": "code",
   "execution_count": 8,
   "id": "7261c06f",
   "metadata": {},
   "outputs": [
    {
     "name": "stdout",
     "output_type": "stream",
     "text": [
      "25000\n"
     ]
    }
   ],
   "source": [
    "print(len(tracks))"
   ]
  },
  {
   "cell_type": "code",
   "execution_count": null,
   "id": "f62244f7",
   "metadata": {},
   "outputs": [],
   "source": [
    "columns = ['track_id'] + top_lvl_genres\n",
    "\n",
    "data = pd.DataFrame(columns=columns)\n",
    "tracks_df = pd.DataFrame(tracks)\n",
    "data.head()\n",
    "\n",
    "# print(tracks_df.columns)\n",
    "\n",
    "genres_set = set(top_lvl_genres)\n",
    "\n",
    "for i, track_id in enumerate(subset):\n",
    "    if i < 100:\n",
    "        genres = tracks_df.loc[track_id,('track', 'genres_all')]\n",
    "        if genres_set.intersection(set(genres)) != set():\n",
    "            data.loc[len(data)] = 0\n",
    "            data.at[i, 'track_id'] = track_id\n",
    "            data.at[i, 'split'] = tracks_df.loc[track_id,('set', 'split')]\n",
    "\n",
    "            genres = tracks_df.loc[track_id,('track', 'genres_all')]\n",
    "            for genre in genres:\n",
    "                if genre in top_lvl_genres:\n",
    "                    data.at[i, genre] = 1\n",
    "            print(track_id, ':', genres)\n",
    "        else:\n",
    "            print('no parent level genres for track', track_id)\n",
    "        \n",
    "data.head()\n",
    "            \n",
    "# data.set_index('track_id', inplace=True, drop=True)\n",
    "# data.to_csv('C:/Users/night/Documents/09/school/actual-masters/git/masters/models/data/fma/medium_multigenre.csv')   "
   ]
  },
  {
   "cell_type": "code",
   "execution_count": null,
   "id": "0c2e9fe2",
   "metadata": {},
   "outputs": [],
   "source": [
    "# data.set_index('track_id', inplace=True, drop=True)\n",
    "data.head()\n",
    "\n",
    "data.to_csv('C:/Users/night/Documents/09/school/actual-masters/git/masters/models/data/fma/medium_multigenre.csv') "
   ]
  },
  {
   "cell_type": "code",
   "execution_count": null,
   "id": "ba70d070",
   "metadata": {},
   "outputs": [],
   "source": [
    "total = 0\n",
    "for col in data:\n",
    "    if col in top_lvl_genres:\n",
    "        print(col, data[col].sum())\n",
    "        total += int(data[col].sum())\n",
    "print(total)"
   ]
  },
  {
   "cell_type": "code",
   "execution_count": null,
   "id": "fa3cfa4a",
   "metadata": {},
   "outputs": [],
   "source": [
    "# tracks_df = pd.DataFrame(tracks)\n",
    "\n",
    "# print(tracks_df.loc[2,('track', 'genres')])\n",
    "# tracks_df.head()\n",
    "\n",
    "genre_ids = genres_.iloc[0]['title']\n",
    "# print(genre_ids['title'])\n",
    "print(genre_ids)"
   ]
  },
  {
   "cell_type": "code",
   "execution_count": null,
   "id": "31c4f2bf",
   "metadata": {},
   "outputs": [],
   "source": [
    "# data.set_index('track_id', inplace=True, drop=True)\n",
    "\n",
    "# print(data.columns)\n",
    "# data.head()\n",
    "\n",
    "data.drop([16, 166], axis=1)\n",
    "\n",
    "for col in data.columns:\n",
    "    print(col)\n",
    "    if type(col) != str:\n",
    "        try:\n",
    "            col = int(col)\n",
    "            genre_name = genres_.iloc[col]['title']\n",
    "            data.rename(columns={col:genre_name})\n",
    "        except:\n",
    "            print('passed')\n",
    "        \n",
    "data.head()"
   ]
  },
  {
   "cell_type": "code",
   "execution_count": null,
   "id": "8f880db4",
   "metadata": {},
   "outputs": [],
   "source": [
    "data[16].sum()"
   ]
  },
  {
   "cell_type": "code",
   "execution_count": null,
   "id": "62c98d29",
   "metadata": {},
   "outputs": [],
   "source": [
    "top_genre = list(LabelEncoder().fit(tracks['track', 'genre_top']).classes_)\n",
    "print('Top genres ({}): {}'.format(len(top_genre), top_genre))\n",
    "\n",
    "top_genres = list(MultiLabelBinarizer().fit(tracks['track', 'genres']).classes_)\n",
    "print('All top genres ({}): {}'.format(len(top_genres), top_genres))\n",
    "\n",
    "genres = list(MultiLabelBinarizer().fit(tracks['track', 'genres_all']).classes_)\n",
    "print('All genres ({}): {}'.format(len(genres), genres))"
   ]
  },
  {
   "cell_type": "code",
   "execution_count": null,
   "id": "f187d9c8",
   "metadata": {},
   "outputs": [],
   "source": [
    "list1 = set([58, 12, 45])\n",
    "list2 = set([1, 38])\n",
    "\n",
    "if list1.intersection(list2) == set():\n",
    "    print('yes')"
   ]
  }
 ],
 "metadata": {
  "kernelspec": {
   "display_name": "Python 3 (ipykernel)",
   "language": "python",
   "name": "python3"
  },
  "language_info": {
   "codemirror_mode": {
    "name": "ipython",
    "version": 3
   },
   "file_extension": ".py",
   "mimetype": "text/x-python",
   "name": "python",
   "nbconvert_exporter": "python",
   "pygments_lexer": "ipython3",
   "version": "3.9.7"
  }
 },
 "nbformat": 4,
 "nbformat_minor": 5
}
