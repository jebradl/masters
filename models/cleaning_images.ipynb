{
 "cells": [
  {
   "cell_type": "markdown",
   "id": "464b21e3",
   "metadata": {},
   "source": [
    "so basically. we're trying to work out whether using images for the ML is better coz i feel like it is gonna be. so"
   ]
  },
  {
   "cell_type": "code",
   "execution_count": 1,
   "id": "3546b446",
   "metadata": {},
   "outputs": [],
   "source": [
    "%matplotlib inline\n",
    "\n",
    "import os\n",
    "\n",
    "import IPython.display as ipd\n",
    "import numpy as np\n",
    "import pandas as pd\n",
    "import matplotlib.pyplot as plt\n",
    "import seaborn as sns\n",
    "import sklearn as skl\n",
    "import sklearn.utils, sklearn.preprocessing, sklearn.decomposition, sklearn.svm\n",
    "import librosa\n",
    "import librosa.display\n",
    "\n",
    "import utils\n",
    "plt.style.use('ggplot')"
   ]
  },
  {
   "cell_type": "code",
   "execution_count": null,
   "id": "a836626c",
   "metadata": {},
   "outputs": [],
   "source": [
    "save_to = 'c:/Users/night/Documents/09/school/actual-masters/git/masters/models/data/fma/img/'\n",
    "path = 'c:/Users/night/Documents/09/school/actual-masters/git/masters/models/data/fma/fma_small'\n",
    "audio_files = os.listdir(path)\n",
    "\n",
    "count = 0\n",
    "\n",
    "for folder in audio_files:\n",
    "#     print(\"folder:\", folder)\n",
    "    new_path = os.path.join(path, folder)\n",
    "#     print(new_path)\n",
    "    for file in os.listdir(new_path):\n",
    "        if ('.mp3' in file):\n",
    "#             print(file)\n",
    "            create_images(file, new_path, save_to)\n",
    "            count+=1\n",
    "        else:\n",
    "            print(\"no\")\n",
    "            \n",
    "print(count)"
   ]
  },
  {
   "cell_type": "code",
   "execution_count": 40,
   "id": "3a05830b",
   "metadata": {},
   "outputs": [],
   "source": [
    "def create_images(file_name, path, save_to):\n",
    "    # ok so create a type of audio extrapolation file\n",
    "    # export image with same number as track\n",
    "    track_no = file_name.split('.')\n",
    "    track = track_no[0]\n",
    "#     print(track_no, track)\n",
    "    \n",
    "#     print(\"function: start\")\n",
    "    location = os.path.join(path, file_name)\n",
    "    \n",
    "#     print(\"location set\")\n",
    "    data, sr = librosa.load(location, res_type='kaiser_fast')\n",
    "#     print(\"librosa formulated\")\n",
    "    spec = librosa.feature.melspectrogram(y=data, sr=sr)\n",
    "    spec_big = librosa.power_to_db(spec)\n",
    "    print(spec_big.shape)\n",
    "    img = librosa.display.specshow(spec_big)\n",
    "#     print(\"image created\")\n",
    "    \n",
    "    plt.savefig(save_to+\"{}.png\".format(track), bbox_inches='tight')"
   ]
  },
  {
   "cell_type": "code",
   "execution_count": null,
   "id": "19c31b7c",
   "metadata": {},
   "outputs": [],
   "source": [
    "save_to = 'c:/Users/night/Documents/09/school/actual-masters/git/masters/models/data/fma/img/'\n",
    "\n",
    "create_images('000005.mp3', 'c:/Users/night/Documents/09/school/actual-masters/git/masters/models/data/fma/fma_small/000', save_to)"
   ]
  }
 ],
 "metadata": {
  "kernelspec": {
   "display_name": "Python 3 (ipykernel)",
   "language": "python",
   "name": "python3"
  },
  "language_info": {
   "codemirror_mode": {
    "name": "ipython",
    "version": 3
   },
   "file_extension": ".py",
   "mimetype": "text/x-python",
   "name": "python",
   "nbconvert_exporter": "python",
   "pygments_lexer": "ipython3",
   "version": "3.9.7"
  }
 },
 "nbformat": 4,
 "nbformat_minor": 5
}
